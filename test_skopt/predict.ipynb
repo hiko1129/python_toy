{
 "cells": [
  {
   "cell_type": "code",
   "execution_count": 1,
   "metadata": {
    "collapsed": true
   },
   "outputs": [],
   "source": [
    "import numpy as np\n",
    "from sklearn.datasets import load_boston, load_iris, load_diabetes, load_digits\n",
    "from sklearn.model_selection import train_test_split\n",
    "from sklearn.svm import SVC, SVR\n",
    "from skopt import gp_minimize\n",
    "from sklearn.model_selection import cross_val_score\n",
    "from sklearn.preprocessing import StandardScaler\n",
    "import warnings"
   ]
  },
  {
   "cell_type": "code",
   "execution_count": 2,
   "metadata": {},
   "outputs": [],
   "source": [
    "# skoptを使ってみる\n",
    "# skoptのuserwarningへの対応\n",
    "warnings.filterwarnings('ignore')\n",
    "\n",
    "TEST_SIZE = 0.3\n",
    "\n",
    "\n",
    "def calculate_score(estimator, X_train, X_test, y_train, y_test):\n",
    "    estimator.fit(X_train, y_train)\n",
    "    return estimator.score(X_test, y_test)\n",
    "\n",
    "\n",
    "def scale(X_train, X_test):\n",
    "    scaler = StandardScaler()\n",
    "    X_train = scaler.fit_transform(X_train)\n",
    "    X_test = scaler.transform(X_test)\n",
    "    return (X_train, X_test)\n",
    "\n",
    "\n",
    "def iris():\n",
    "    X_train, X_test, y_train, y_test, default_score = response_common_data(\n",
    "        load_iris(), SVC()\n",
    "    )\n",
    "\n",
    "    def objective(params):\n",
    "        gamma, C = params\n",
    "        estimator = SVC()\n",
    "        estimator.set_params(gamma=gamma, C=C)\n",
    "\n",
    "        return -np.mean(cross_val_score(estimator, X_train, y_train, cv=5,\n",
    "                                        n_jobs=-1))\n",
    "    space = [(1e-2, 1e2),\n",
    "             (1e-2, 1e2)]\n",
    "    res_gp = gp_minimize(objective, space, n_calls=100, random_state=0)\n",
    "    return (default_score, -res_gp.fun)\n",
    "\n",
    "\n",
    "def boston():\n",
    "    X_train, X_test, y_train, y_test, default_score = response_common_data(\n",
    "        load_boston(),\n",
    "        SVR()\n",
    "    )\n",
    "\n",
    "    def objective(params):\n",
    "        gamma, C = params\n",
    "        estimator = SVR()\n",
    "        estimator.set_params(gamma=gamma, C=C)\n",
    "\n",
    "        return -np.mean(cross_val_score(estimator, X_train, y_train, cv=5,\n",
    "                                        n_jobs=-1, scoring='r2'))\n",
    "    space = [(1e-2, 1e2),\n",
    "             (1e-2, 1e2)]\n",
    "    res_gp = gp_minimize(objective, space, n_calls=100, random_state=0)\n",
    "    return (default_score, -res_gp.fun)\n",
    "\n",
    "\n",
    "def diabetes():\n",
    "    X_train, X_test, y_train, y_test, default_score = response_common_data(\n",
    "        load_diabetes(),\n",
    "        SVR()\n",
    "    )\n",
    "\n",
    "    def objective(params):\n",
    "        gamma, C = params\n",
    "        estimator = SVR()\n",
    "        estimator.set_params(gamma=gamma, C=C)\n",
    "\n",
    "        return -np.mean(cross_val_score(estimator, X_train, y_train, cv=5,\n",
    "                                        n_jobs=-1, scoring='r2'))\n",
    "    space = [(1e-2, 1e2),\n",
    "             (1e-2, 1e2)]\n",
    "    res_gp = gp_minimize(objective, space, n_calls=100, random_state=0)\n",
    "    return (default_score, -res_gp.fun)\n",
    "\n",
    "\n",
    "def digits():\n",
    "    X_train, X_test, y_train, y_test, default_score = response_common_data(\n",
    "        load_digits(), SVC()\n",
    "    )\n",
    "\n",
    "    def objective(params):\n",
    "        gamma, C = params\n",
    "        estimator = SVC()\n",
    "        estimator.set_params(gamma=gamma, C=C)\n",
    "\n",
    "        return -np.mean(cross_val_score(estimator, X_train, y_train, cv=5,\n",
    "                                        n_jobs=-1))\n",
    "    space = [(1e-2, 1e2),\n",
    "             (1e-2, 1e2)]\n",
    "    res_gp = gp_minimize(objective, space, n_calls=100, random_state=0)\n",
    "    return (default_score, -res_gp.fun)\n",
    "\n",
    "\n",
    "def response_common_data(dataset, estimator):\n",
    "    X_train, X_test, y_train, y_test = train_test_split(dataset.data,\n",
    "                                                        dataset.target,\n",
    "                                                        test_size=TEST_SIZE,\n",
    "                                                        random_state=0)\n",
    "    default_score = calculate_score(estimator, X_train, X_test, y_train,\n",
    "                                    y_test)\n",
    "    return (X_train, X_test, y_train, y_test, default_score)"
   ]
  },
  {
   "cell_type": "code",
   "execution_count": 3,
   "metadata": {},
   "outputs": [
    {
     "data": {
      "text/plain": [
       "(0.97777777777777775, 0.9799498746867169)"
      ]
     },
     "execution_count": 3,
     "metadata": {},
     "output_type": "execute_result"
    }
   ],
   "source": [
    "# 左がデフォルトパラメータ利用時の正解率あるいはR2、右がベイズ最適化利用時の正解率あるいはR2\n",
    "iris_result = iris()\n",
    "iris_result"
   ]
  },
  {
   "cell_type": "code",
   "execution_count": 4,
   "metadata": {},
   "outputs": [
    {
     "data": {
      "text/plain": [
       "(0.01018093344367077, 0.3620175771317663)"
      ]
     },
     "execution_count": 4,
     "metadata": {},
     "output_type": "execute_result"
    }
   ],
   "source": [
    "boston_result = boston()\n",
    "boston_result"
   ]
  },
  {
   "cell_type": "code",
   "execution_count": 5,
   "metadata": {},
   "outputs": [
    {
     "data": {
      "text/plain": [
       "(-0.025718407007948363, 0.53852487160704732)"
      ]
     },
     "execution_count": 5,
     "metadata": {},
     "output_type": "execute_result"
    }
   ],
   "source": [
    "diabetes_result = diabetes()\n",
    "diabetes_result"
   ]
  },
  {
   "cell_type": "code",
   "execution_count": 6,
   "metadata": {},
   "outputs": [
    {
     "data": {
      "text/plain": [
       "(0.47222222222222221, 0.83363376134337219)"
      ]
     },
     "execution_count": 6,
     "metadata": {},
     "output_type": "execute_result"
    }
   ],
   "source": [
    "digits_result = digits()\n",
    "digits_result"
   ]
  },
  {
   "cell_type": "code",
   "execution_count": null,
   "metadata": {
    "collapsed": true
   },
   "outputs": [],
   "source": []
  }
 ],
 "metadata": {
  "kernelspec": {
   "display_name": "Python 3",
   "language": "python",
   "name": "python3"
  },
  "language_info": {
   "codemirror_mode": {
    "name": "ipython",
    "version": 3
   },
   "file_extension": ".py",
   "mimetype": "text/x-python",
   "name": "python",
   "nbconvert_exporter": "python",
   "pygments_lexer": "ipython3",
   "version": "3.5.2"
  }
 },
 "nbformat": 4,
 "nbformat_minor": 2
}
