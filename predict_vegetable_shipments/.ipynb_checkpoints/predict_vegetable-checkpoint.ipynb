{
 "cells": [
  {
   "cell_type": "code",
   "execution_count": 12,
   "metadata": {
    "collapsed": true
   },
   "outputs": [],
   "source": [
    "from predict_vegetable import Statistics\n",
    "import math"
   ]
  },
  {
   "cell_type": "code",
   "execution_count": 13,
   "metadata": {},
   "outputs": [
    {
     "name": "stderr",
     "output_type": "stream",
     "text": [
      "/Users/hiko/.pyenv/versions/3.5.2/envs/new_3.5.2/lib/python3.5/site-packages/skopt/optimizer/optimizer.py:195: UserWarning: The objective has been evaluated at this point before.\n",
      "  warnings.warn(\"The objective has been evaluated \"\n"
     ]
    }
   ],
   "source": [
    "statistics = Statistics()\n",
    "dfs = statistics.create_df(filepath='soy.xls',\n",
    "                           header=[4, 5],\n",
    "                           weather_period=[1966, 2012],\n",
    "                           vegetable_period=['昭.41(1966)', '平.24(2012)'])\n",
    "res_gp = statistics.optimize(dfs)"
   ]
  },
  {
   "cell_type": "code",
   "execution_count": null,
   "metadata": {
    "collapsed": true
   },
   "outputs": [],
   "source": [
    "t, p = statistics.t_test(dfs, res_gp['all_data'].x, res_gp['only_planted_area'].x)\n",
    "p"
   ]
  },
  {
   "cell_type": "code",
   "execution_count": 14,
   "metadata": {},
   "outputs": [
    {
     "data": {
      "text/plain": [
       "(359.93392395085283, 416.76506278634025)"
      ]
     },
     "execution_count": 14,
     "metadata": {},
     "output_type": "execute_result"
    }
   ],
   "source": [
    "math.sqrt(res_gp['all_data'].fun), math.sqrt(res_gp['only_planted_area'].fun)"
   ]
  },
  {
   "cell_type": "code",
   "execution_count": 15,
   "metadata": {
    "scrolled": false
   },
   "outputs": [
    {
     "name": "stderr",
     "output_type": "stream",
     "text": [
      "/Users/hiko/.pyenv/versions/3.5.2/envs/new_3.5.2/lib/python3.5/site-packages/skopt/optimizer/optimizer.py:195: UserWarning: The objective has been evaluated at this point before.\n",
      "  warnings.warn(\"The objective has been evaluated \"\n",
      "/Users/hiko/.pyenv/versions/3.5.2/envs/new_3.5.2/lib/python3.5/site-packages/skopt/optimizer/optimizer.py:195: UserWarning: The objective has been evaluated at this point before.\n",
      "  warnings.warn(\"The objective has been evaluated \"\n",
      "/Users/hiko/.pyenv/versions/3.5.2/envs/new_3.5.2/lib/python3.5/site-packages/skopt/optimizer/optimizer.py:195: UserWarning: The objective has been evaluated at this point before.\n",
      "  warnings.warn(\"The objective has been evaluated \"\n",
      "/Users/hiko/.pyenv/versions/3.5.2/envs/new_3.5.2/lib/python3.5/site-packages/skopt/optimizer/optimizer.py:195: UserWarning: The objective has been evaluated at this point before.\n",
      "  warnings.warn(\"The objective has been evaluated \"\n"
     ]
    }
   ],
   "source": [
    "dfs = statistics.create_df(filepath='corn.xls',\n",
    "                           header=[4, 5],\n",
    "                           weather_period=[1966, 2012],\n",
    "                           vegetable_period=['昭.41(1966)', '平.24(2012)'])\n",
    "res_gp = statistics.optimize(dfs)"
   ]
  },
  {
   "cell_type": "code",
   "execution_count": null,
   "metadata": {
    "collapsed": true
   },
   "outputs": [],
   "source": [
    "t, p = statistics.t_test(dfs, res_gp['all_data'].x, res_gp['only_planted_area'].x)\n",
    "p"
   ]
  },
  {
   "cell_type": "code",
   "execution_count": null,
   "metadata": {},
   "outputs": [
    {
     "data": {
      "text/plain": [
       "(11498.152301422328, 15854.537625577024)"
      ]
     },
     "execution_count": 16,
     "metadata": {},
     "output_type": "execute_result"
    }
   ],
   "source": [
    "math.sqrt(res_gp['all_data'].fun), math.sqrt(res_gp['only_planted_area'].fun)"
   ]
  },
  {
   "cell_type": "code",
   "execution_count": null,
   "metadata": {
    "collapsed": true
   },
   "outputs": [],
   "source": [
    "dfs = statistics.create_df(filepath='wheat.xls',\n",
    "                           header=[4, 5],\n",
    "                           weather_period=[1966, 2012],\n",
    "                           vegetable_period=['昭.41(1966)', '平.24(2012)'])\n",
    "res_gp = statistics.optimize(dfs)"
   ]
  },
  {
   "cell_type": "code",
   "execution_count": null,
   "metadata": {
    "collapsed": true
   },
   "outputs": [],
   "source": [
    "t, p = statistics.t_test(dfs, res_gp['all_data'].x, res_gp['only_planted_area'].x)\n",
    "p"
   ]
  },
  {
   "cell_type": "code",
   "execution_count": null,
   "metadata": {
    "collapsed": true
   },
   "outputs": [],
   "source": [
    "math.sqrt(res_gp['all_data'].fun), math.sqrt(res_gp['only_planted_area'].fun)"
   ]
  },
  {
   "cell_type": "code",
   "execution_count": null,
   "metadata": {
    "collapsed": true
   },
   "outputs": [],
   "source": []
  }
 ],
 "metadata": {
  "kernelspec": {
   "display_name": "Python 3",
   "language": "python",
   "name": "python3"
  },
  "language_info": {
   "codemirror_mode": {
    "name": "ipython",
    "version": 3
   },
   "file_extension": ".py",
   "mimetype": "text/x-python",
   "name": "python",
   "nbconvert_exporter": "python",
   "pygments_lexer": "ipython3",
   "version": "3.5.2"
  }
 },
 "nbformat": 4,
 "nbformat_minor": 2
}
