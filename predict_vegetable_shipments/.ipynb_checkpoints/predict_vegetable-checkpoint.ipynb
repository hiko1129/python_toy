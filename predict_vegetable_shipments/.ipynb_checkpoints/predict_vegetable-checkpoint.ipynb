{
 "cells": [
  {
   "cell_type": "code",
   "execution_count": 75,
   "metadata": {},
   "outputs": [],
   "source": [
    "import pandas as pd\n",
    "from sklearn.ensemble import RandomForestRegressor\n",
    "from sklearn.model_selection import train_test_split\n",
    "import numpy as np"
   ]
  },
  {
   "cell_type": "code",
   "execution_count": 76,
   "metadata": {},
   "outputs": [],
   "source": [
    "weather_dfs = pd.read_html('http://www.data.jma.go.jp/obd/stats/etrn/view/annually_s.php?prec_no=45&block_no=47682&year=&month=&day=&view=', skiprows=3, index_col=0)"
   ]
  },
  {
   "cell_type": "code",
   "execution_count": 77,
   "metadata": {
    "collapsed": true
   },
   "outputs": [],
   "source": [
    "chiba_df = pd.read_excel('chiba.xls', header=[4, 5, 6], skip_footer=3)"
   ]
  },
  {
   "cell_type": "code",
   "execution_count": 171,
   "metadata": {},
   "outputs": [],
   "source": [
    "weather_df = weather_dfs[0]"
   ]
  },
  {
   "cell_type": "code",
   "execution_count": 172,
   "metadata": {},
   "outputs": [],
   "source": [
    "def clean(x):\n",
    "    if isinstance(x, str):\n",
    "        return x.replace(']', '')\n",
    "X = []\n",
    "for i in weather_df.columns.values:\n",
    "    X.append(weather_df[i].apply(clean).loc[1973:2012].values)"
   ]
  },
  {
   "cell_type": "code",
   "execution_count": 173,
   "metadata": {},
   "outputs": [
    {
     "ename": "SyntaxError",
     "evalue": "invalid syntax (<ipython-input-173-215017cb5f1a>, line 1)",
     "output_type": "error",
     "traceback": [
      "\u001b[0;36m  File \u001b[0;32m\"<ipython-input-173-215017cb5f1a>\"\u001b[0;36m, line \u001b[0;32m1\u001b[0m\n\u001b[0;31m    X = X[]\u001b[0m\n\u001b[0m          ^\u001b[0m\n\u001b[0;31mSyntaxError\u001b[0m\u001b[0;31m:\u001b[0m invalid syntax\n"
     ]
    }
   ],
   "source": [
    "X = X[:]"
   ]
  },
  {
   "cell_type": "code",
   "execution_count": 147,
   "metadata": {},
   "outputs": [
    {
     "data": {
      "text/html": [
       "<div>\n",
       "<style>\n",
       "    .dataframe thead tr:only-child th {\n",
       "        text-align: right;\n",
       "    }\n",
       "\n",
       "    .dataframe thead th {\n",
       "        text-align: left;\n",
       "    }\n",
       "\n",
       "    .dataframe tbody tr th {\n",
       "        vertical-align: top;\n",
       "    }\n",
       "</style>\n",
       "<table border=\"1\" class=\"dataframe\">\n",
       "  <thead>\n",
       "    <tr>\n",
       "      <th>年次</th>\n",
       "      <th colspan=\"3\" halign=\"left\">だいこん</th>\n",
       "      <th colspan=\"3\" halign=\"left\">春だいこん</th>\n",
       "      <th colspan=\"3\" halign=\"left\">夏だいこん</th>\n",
       "      <th>秋冬だいこん</th>\n",
       "      <th>...</th>\n",
       "      <th>春夏にんじん</th>\n",
       "      <th colspan=\"3\" halign=\"left\">冬にんじん</th>\n",
       "      <th colspan=\"3\" halign=\"left\">ごぼう</th>\n",
       "      <th colspan=\"3\" halign=\"left\">秋冬さといも</th>\n",
       "    </tr>\n",
       "    <tr>\n",
       "      <th></th>\n",
       "      <th>作付面積</th>\n",
       "      <th>収穫量</th>\n",
       "      <th>出荷量</th>\n",
       "      <th>作付面積</th>\n",
       "      <th>収穫量</th>\n",
       "      <th>出荷量</th>\n",
       "      <th>作付面積</th>\n",
       "      <th>収穫量</th>\n",
       "      <th>出荷量</th>\n",
       "      <th>作付面積</th>\n",
       "      <th>...</th>\n",
       "      <th>出荷量</th>\n",
       "      <th>作付面積</th>\n",
       "      <th>収穫量</th>\n",
       "      <th>出荷量</th>\n",
       "      <th>作付面積</th>\n",
       "      <th>収穫量</th>\n",
       "      <th>出荷量</th>\n",
       "      <th>作付面積</th>\n",
       "      <th>収穫量</th>\n",
       "      <th>出荷量</th>\n",
       "    </tr>\n",
       "    <tr>\n",
       "      <th></th>\n",
       "      <th>ha</th>\n",
       "      <th>t</th>\n",
       "      <th>t</th>\n",
       "      <th>ha</th>\n",
       "      <th>t</th>\n",
       "      <th>t</th>\n",
       "      <th>ha</th>\n",
       "      <th>t</th>\n",
       "      <th>t</th>\n",
       "      <th>ha</th>\n",
       "      <th>...</th>\n",
       "      <th>t</th>\n",
       "      <th>ha</th>\n",
       "      <th>t</th>\n",
       "      <th>t</th>\n",
       "      <th>ha</th>\n",
       "      <th>t</th>\n",
       "      <th>t</th>\n",
       "      <th>ha</th>\n",
       "      <th>t</th>\n",
       "      <th>t</th>\n",
       "    </tr>\n",
       "  </thead>\n",
       "  <tbody>\n",
       "    <tr>\n",
       "      <th>平.20(2008)</th>\n",
       "      <td>3180</td>\n",
       "      <td>176200</td>\n",
       "      <td>158900</td>\n",
       "      <td>1240</td>\n",
       "      <td>71400</td>\n",
       "      <td>65700</td>\n",
       "      <td>42</td>\n",
       "      <td>1070</td>\n",
       "      <td>853</td>\n",
       "      <td>1900</td>\n",
       "      <td>...</td>\n",
       "      <td>26700</td>\n",
       "      <td>2530</td>\n",
       "      <td>90300</td>\n",
       "      <td>84000</td>\n",
       "      <td>683</td>\n",
       "      <td>14600</td>\n",
       "      <td>13000</td>\n",
       "      <td>1890</td>\n",
       "      <td>25700</td>\n",
       "      <td>19300</td>\n",
       "    </tr>\n",
       "    <tr>\n",
       "      <th>平.21(2009)</th>\n",
       "      <td>3140</td>\n",
       "      <td>172000</td>\n",
       "      <td>156000</td>\n",
       "      <td>1250</td>\n",
       "      <td>70100</td>\n",
       "      <td>64500</td>\n",
       "      <td>41</td>\n",
       "      <td>1050</td>\n",
       "      <td>843</td>\n",
       "      <td>1850</td>\n",
       "      <td>...</td>\n",
       "      <td>26400</td>\n",
       "      <td>2560</td>\n",
       "      <td>103200</td>\n",
       "      <td>96200</td>\n",
       "      <td>657</td>\n",
       "      <td>13900</td>\n",
       "      <td>12400</td>\n",
       "      <td>1860</td>\n",
       "      <td>26000</td>\n",
       "      <td>19200</td>\n",
       "    </tr>\n",
       "    <tr>\n",
       "      <th>平.22(2010)</th>\n",
       "      <td>3110</td>\n",
       "      <td>163500</td>\n",
       "      <td>147500</td>\n",
       "      <td>1260</td>\n",
       "      <td>69400</td>\n",
       "      <td>62900</td>\n",
       "      <td>38</td>\n",
       "      <td>882</td>\n",
       "      <td>671</td>\n",
       "      <td>1810</td>\n",
       "      <td>...</td>\n",
       "      <td>24000</td>\n",
       "      <td>2540</td>\n",
       "      <td>86600</td>\n",
       "      <td>80200</td>\n",
       "      <td>581</td>\n",
       "      <td>11600</td>\n",
       "      <td>10300</td>\n",
       "      <td>1790</td>\n",
       "      <td>22400</td>\n",
       "      <td>16600</td>\n",
       "    </tr>\n",
       "    <tr>\n",
       "      <th>平.23(2011)</th>\n",
       "      <td>3020</td>\n",
       "      <td>163300</td>\n",
       "      <td>147500</td>\n",
       "      <td>1220</td>\n",
       "      <td>70000</td>\n",
       "      <td>63500</td>\n",
       "      <td>37</td>\n",
       "      <td>947</td>\n",
       "      <td>733</td>\n",
       "      <td>1760</td>\n",
       "      <td>...</td>\n",
       "      <td>25100</td>\n",
       "      <td>2560</td>\n",
       "      <td>93700</td>\n",
       "      <td>86100</td>\n",
       "      <td>524</td>\n",
       "      <td>10700</td>\n",
       "      <td>9540</td>\n",
       "      <td>1760</td>\n",
       "      <td>23200</td>\n",
       "      <td>17100</td>\n",
       "    </tr>\n",
       "    <tr>\n",
       "      <th>平.24(2012)</th>\n",
       "      <td>2960</td>\n",
       "      <td>155200</td>\n",
       "      <td>140500</td>\n",
       "      <td>1220</td>\n",
       "      <td>67000</td>\n",
       "      <td>61000</td>\n",
       "      <td>31</td>\n",
       "      <td>769</td>\n",
       "      <td>588</td>\n",
       "      <td>1710</td>\n",
       "      <td>...</td>\n",
       "      <td>23900</td>\n",
       "      <td>2500</td>\n",
       "      <td>84800</td>\n",
       "      <td>77800</td>\n",
       "      <td>472</td>\n",
       "      <td>9490</td>\n",
       "      <td>8440</td>\n",
       "      <td>1720</td>\n",
       "      <td>22400</td>\n",
       "      <td>16500</td>\n",
       "    </tr>\n",
       "  </tbody>\n",
       "</table>\n",
       "<p>5 rows × 30 columns</p>\n",
       "</div>"
      ],
      "text/plain": [
       "年次          だいこん                 春だいこん               夏だいこん            秋冬だいこん  \\\n",
       "            作付面積     収穫量     出荷量  作付面積    収穫量    出荷量  作付面積   収穫量  出荷量   作付面積   \n",
       "              ha       t       t    ha      t      t    ha     t    t     ha   \n",
       "平.20(2008)  3180  176200  158900  1240  71400  65700    42  1070  853   1900   \n",
       "平.21(2009)  3140  172000  156000  1250  70100  64500    41  1050  843   1850   \n",
       "平.22(2010)  3110  163500  147500  1260  69400  62900    38   882  671   1810   \n",
       "平.23(2011)  3020  163300  147500  1220  70000  63500    37   947  733   1760   \n",
       "平.24(2012)  2960  155200  140500  1220  67000  61000    31   769  588   1710   \n",
       "\n",
       "年次          ...   春夏にんじん 冬にんじん                 ごぼう               秋冬さといも  \\\n",
       "            ...      出荷量  作付面積     収穫量    出荷量 作付面積    収穫量    出荷量   作付面積   \n",
       "            ...        t    ha       t      t   ha      t      t     ha   \n",
       "平.20(2008)  ...    26700  2530   90300  84000  683  14600  13000   1890   \n",
       "平.21(2009)  ...    26400  2560  103200  96200  657  13900  12400   1860   \n",
       "平.22(2010)  ...    24000  2540   86600  80200  581  11600  10300   1790   \n",
       "平.23(2011)  ...    25100  2560   93700  86100  524  10700   9540   1760   \n",
       "平.24(2012)  ...    23900  2500   84800  77800  472   9490   8440   1720   \n",
       "\n",
       "年次                        \n",
       "              収穫量    出荷量  \n",
       "                t      t  \n",
       "平.20(2008)  25700  19300  \n",
       "平.21(2009)  26000  19200  \n",
       "平.22(2010)  22400  16600  \n",
       "平.23(2011)  23200  17100  \n",
       "平.24(2012)  22400  16500  \n",
       "\n",
       "[5 rows x 30 columns]"
      ]
     },
     "execution_count": 147,
     "metadata": {},
     "output_type": "execute_result"
    }
   ],
   "source": [
    "# 「…」と「_」は除外\n",
    "chiba_df.tail()"
   ]
  },
  {
   "cell_type": "code",
   "execution_count": 148,
   "metadata": {},
   "outputs": [],
   "source": [
    "chiba_df = chiba_df.apply(lambda x: x.replace('…', np.nan))\n",
    "chiba_df = chiba_df.apply(lambda x: x.replace('-', np.nan))"
   ]
  },
  {
   "cell_type": "code",
   "execution_count": 149,
   "metadata": {},
   "outputs": [
    {
     "name": "stdout",
     "output_type": "stream",
     "text": [
      "<class 'pandas.core.frame.DataFrame'>\n",
      "Index: 40 entries, 昭.48(1973) to 平.24(2012)\n",
      "Data columns (total 30 columns):\n",
      "(だいこん, 作付面積, ha)      40 non-null int64\n",
      "(だいこん, 収穫量, t)        40 non-null int64\n",
      "(だいこん, 出荷量, t)        40 non-null int64\n",
      "(春だいこん, 作付面積, ha)     40 non-null int64\n",
      "(春だいこん, 収穫量, t)       40 non-null int64\n",
      "(春だいこん, 出荷量, t)       40 non-null int64\n",
      "(夏だいこん, 作付面積, ha)     40 non-null int64\n",
      "(夏だいこん, 収穫量, t)       40 non-null int64\n",
      "(夏だいこん, 出荷量, t)       40 non-null int64\n",
      "(秋冬だいこん, 作付面積, ha)    40 non-null int64\n",
      "(秋冬だいこん, 収穫量, t)      40 non-null int64\n",
      "(秋冬だいこん, 出荷量, t)      40 non-null int64\n",
      "(かぶ, 作付面積, ha)        40 non-null int64\n",
      "(かぶ, 収穫量, t)          40 non-null int64\n",
      "(かぶ, 出荷量, t)          40 non-null int64\n",
      "(にんじん, 作付面積, ha)      40 non-null int64\n",
      "(にんじん, 収穫量, t)        40 non-null int64\n",
      "(にんじん, 出荷量, t)        40 non-null int64\n",
      "(春夏にんじん, 作付面積, ha)    40 non-null int64\n",
      "(春夏にんじん, 収穫量, t)      40 non-null int64\n",
      "(春夏にんじん, 出荷量, t)      40 non-null int64\n",
      "(冬にんじん, 作付面積, ha)     40 non-null int64\n",
      "(冬にんじん, 収穫量, t)       40 non-null int64\n",
      "(冬にんじん, 出荷量, t)       40 non-null int64\n",
      "(ごぼう, 作付面積, ha)       40 non-null int64\n",
      "(ごぼう, 収穫量, t)         40 non-null int64\n",
      "(ごぼう, 出荷量, t)         40 non-null int64\n",
      "(秋冬さといも, 作付面積, ha)    40 non-null int64\n",
      "(秋冬さといも, 収穫量, t)      40 non-null int64\n",
      "(秋冬さといも, 出荷量, t)      40 non-null int64\n",
      "dtypes: int64(30)\n",
      "memory usage: 9.7+ KB\n"
     ]
    }
   ],
   "source": [
    "chiba_df.info()"
   ]
  },
  {
   "cell_type": "code",
   "execution_count": 150,
   "metadata": {},
   "outputs": [],
   "source": [
    "# データ数が少ないため欠損値があるものは除外\n",
    "chiba_df = chiba_df.dropna(axis=1)"
   ]
  },
  {
   "cell_type": "code",
   "execution_count": 151,
   "metadata": {},
   "outputs": [
    {
     "name": "stdout",
     "output_type": "stream",
     "text": [
      "<class 'pandas.core.frame.DataFrame'>\n",
      "Index: 40 entries, 昭.48(1973) to 平.24(2012)\n",
      "Data columns (total 30 columns):\n",
      "(だいこん, 作付面積, ha)      40 non-null int64\n",
      "(だいこん, 収穫量, t)        40 non-null int64\n",
      "(だいこん, 出荷量, t)        40 non-null int64\n",
      "(春だいこん, 作付面積, ha)     40 non-null int64\n",
      "(春だいこん, 収穫量, t)       40 non-null int64\n",
      "(春だいこん, 出荷量, t)       40 non-null int64\n",
      "(夏だいこん, 作付面積, ha)     40 non-null int64\n",
      "(夏だいこん, 収穫量, t)       40 non-null int64\n",
      "(夏だいこん, 出荷量, t)       40 non-null int64\n",
      "(秋冬だいこん, 作付面積, ha)    40 non-null int64\n",
      "(秋冬だいこん, 収穫量, t)      40 non-null int64\n",
      "(秋冬だいこん, 出荷量, t)      40 non-null int64\n",
      "(かぶ, 作付面積, ha)        40 non-null int64\n",
      "(かぶ, 収穫量, t)          40 non-null int64\n",
      "(かぶ, 出荷量, t)          40 non-null int64\n",
      "(にんじん, 作付面積, ha)      40 non-null int64\n",
      "(にんじん, 収穫量, t)        40 non-null int64\n",
      "(にんじん, 出荷量, t)        40 non-null int64\n",
      "(春夏にんじん, 作付面積, ha)    40 non-null int64\n",
      "(春夏にんじん, 収穫量, t)      40 non-null int64\n",
      "(春夏にんじん, 出荷量, t)      40 non-null int64\n",
      "(冬にんじん, 作付面積, ha)     40 non-null int64\n",
      "(冬にんじん, 収穫量, t)       40 non-null int64\n",
      "(冬にんじん, 出荷量, t)       40 non-null int64\n",
      "(ごぼう, 作付面積, ha)       40 non-null int64\n",
      "(ごぼう, 収穫量, t)         40 non-null int64\n",
      "(ごぼう, 出荷量, t)         40 non-null int64\n",
      "(秋冬さといも, 作付面積, ha)    40 non-null int64\n",
      "(秋冬さといも, 収穫量, t)      40 non-null int64\n",
      "(秋冬さといも, 出荷量, t)      40 non-null int64\n",
      "dtypes: int64(30)\n",
      "memory usage: 9.7+ KB\n"
     ]
    }
   ],
   "source": [
    "chiba_df.info()"
   ]
  },
  {
   "cell_type": "code",
   "execution_count": 152,
   "metadata": {},
   "outputs": [],
   "source": [
    "chiba_df = chiba_df.fillna(value=0)\n",
    "vegetable_name_list = chiba_df.columns.levels[0].values"
   ]
  },
  {
   "cell_type": "code",
   "execution_count": 164,
   "metadata": {},
   "outputs": [],
   "source": [
    "scores = []"
   ]
  },
  {
   "cell_type": "code",
   "execution_count": 165,
   "metadata": {},
   "outputs": [],
   "source": [
    "amount_of_crops = []\n",
    "for vegetable_name in vegetable_name_list:\n",
    "    vegetable_df = chiba_df[vegetable_name]\n",
    "    if 'ha' not in vegetable_df['作付面積'].columns.values or 't' not in vegetable_df['収穫量'].columns.values:\n",
    "         continue\n",
    "    y = vegetable_df['収穫量'].t.values\n",
    "    temp = []\n",
    "    for i in vegetable_df['作付面積'].ha.values:\n",
    "        temp.append(i)\n",
    "    amount_of_crops.append(np.array(temp))"
   ]
  },
  {
   "cell_type": "code",
   "execution_count": 166,
   "metadata": {},
   "outputs": [],
   "source": [
    "def transpose(matrix):\n",
    "    return list(map(list, zip(*matrix)))"
   ]
  },
  {
   "cell_type": "code",
   "execution_count": 167,
   "metadata": {
    "collapsed": true
   },
   "outputs": [],
   "source": [
    "X_cp = list(X)"
   ]
  },
  {
   "cell_type": "code",
   "execution_count": 168,
   "metadata": {},
   "outputs": [
    {
     "name": "stdout",
     "output_type": "stream",
     "text": [
      "40 40\n",
      "40 40\n",
      "40 40\n",
      "40 40\n",
      "40 40\n",
      "40 40\n",
      "40 40\n",
      "40 40\n",
      "40 40\n",
      "40 40\n"
     ]
    }
   ],
   "source": [
    "for amount_of_crop in amount_of_crops:\n",
    "    X = list(X_cp)\n",
    "    X.append(amount_of_crop)\n",
    "    X = transpose(X)\n",
    "    print(len(X), len(y))\n",
    "    X_train, X_test, y_train, y_test = train_test_split(X, y, test_size=0.3)\n",
    "    reg = RandomForestRegressor()\n",
    "    reg.fit(X_train, y_train)\n",
    "    scores.append(reg.score(X_test, y_test))"
   ]
  },
  {
   "cell_type": "code",
   "execution_count": 169,
   "metadata": {},
   "outputs": [
    {
     "name": "stdout",
     "output_type": "stream",
     "text": [
      "かぶ -0.87647879788\n",
      "ごぼう 0.050503159518\n",
      "さといも -0.247969908178\n",
      "その他さといも 0.306121260238\n",
      "だいこん -0.729385344374\n",
      "ながいも 0.0300193708007\n",
      "にんじん 0.16070725866\n",
      "ばれいしょ 0.383901819155\n",
      "やまのいも -0.530591979378\n",
      "れんこん 0.652234156789\n"
     ]
    }
   ],
   "source": [
    "for i, j in zip(vegetable_name_list, scores):\n",
    "    print(i, j)"
   ]
  },
  {
   "cell_type": "code",
   "execution_count": 162,
   "metadata": {},
   "outputs": [
    {
     "data": {
      "text/plain": [
       "[array(['1067.5', '1210.5', '1492.5', '1304.0', '1315.0', '808.0', '1164.0',\n",
       "        '1479.0', '1141.0', '1471.0', '1352.5', '855.0', '1381.5', '1291.5',\n",
       "        '1276.0', '1318.5', '1658.0', '1266.5', '1910.5', '1403.0',\n",
       "        '1596.5', '1164.0', '1094.5', '1346.0', '939.5', '1345.5', '1330.5',\n",
       "        '1329.0', '1482.0', '1370.0', '1594.5', '1670.5', '1314.5',\n",
       "        '1726.0', '1190.0', '1639.0', '1636.5', '1525.0', '1258.5', '1614.0'], dtype=object),\n",
       " array(['88.0', '67.0', '109.0', '52.5', '97.0', '49.5', '109.0', '78.5',\n",
       "        '120.5', '111.0', '74.0', '94.0', '83.0', '183.0', '101.0', '116.5',\n",
       "        '137.0', '90.0', '181.5', '68.0', '179.5', '123.0', '91.0', '259.5',\n",
       "        '53.5', '58.5', '173.0', '99.5', '185.0', '81.0', '162.0', '135.5',\n",
       "        '96.0', '156.0', '110.0', '83.5', '112.5', '153.0', '92.5', '64.0'], dtype=object),\n",
       " array(['32.5', '32.0', '71.0', '39.0', '22.5', '15.5', '28.0', '26.5',\n",
       "        '46.0', '36.0', '39.0', '37.0', '20.5', '70.0', '32.5', '32.5',\n",
       "        '21.5', '36.0', '44.5', '32.5', '49.0', '42.0', '20.5', '42.5',\n",
       "        '31.5', '23.0', '57.5', '50.0', '37.5', '38.0', '23.0', '43.0',\n",
       "        '55.5', '28.0', '33.5', '39.5', '48.5', '68.0', '25.5', '54.5'], dtype=object),\n",
       " array(['12.5', '15.0', '17.5', '13.5', '12.5', '5.0', '11.5', '9.5',\n",
       "        '11.5', '20.5', '13.0', '11.0', '7.0', '26.0', '19.0', '11.5',\n",
       "        '11.0', '20.5', '11.5', '17.5', '13.5', '11.5', '10.0', '9.0',\n",
       "        '16.0', '14.5', '19.5', '17.0', '14.0', '14.0', '11.0', '15.0',\n",
       "        '14.5', '12.5', '10.0', '20.0', '28.0', '16.5', '11.5', '15.5'], dtype=object)]"
      ]
     },
     "execution_count": 162,
     "metadata": {},
     "output_type": "execute_result"
    }
   ],
   "source": [
    "X"
   ]
  },
  {
   "cell_type": "code",
   "execution_count": 130,
   "metadata": {},
   "outputs": [
    {
     "data": {
      "text/plain": [
       "[['1012.2', 1250, 2560],\n",
       " ['1012.1', 1290, 2590],\n",
       " ['1012.1', 1220, 2290],\n",
       " ['1012.4', 1200, 2220],\n",
       " ['1012.7', 1180, 2120],\n",
       " ['1012.2', 1220, 2020],\n",
       " ['1012.4', 1240, 2100],\n",
       " ['1011.9', 1220, 2210],\n",
       " ['1011.4', 1220, 2150],\n",
       " ['1011.9', 1220, 2190],\n",
       " ['1011.6', 1210, 2240],\n",
       " ['1012.2', 1200, 2330],\n",
       " ['1012.2', 1240, 2310],\n",
       " ['1011.4', 1280, 2310],\n",
       " ['1012.2', 1290, 2280],\n",
       " ['1010.9', 1280, 2300],\n",
       " ['1012.3', 1260, 2330],\n",
       " ['1012.6', 1260, 2270],\n",
       " ['1011.3', 1250, 2240],\n",
       " ['1011.9', 1220, 2210],\n",
       " ['1011.5', 1240, 2250],\n",
       " ['1011.5', 1260, 2230],\n",
       " ['1010.9', 1230, 2210],\n",
       " ['1011.7', 1230, 2160],\n",
       " ['1011.5', 1210, 2120],\n",
       " ['1012.4', 1220, 2140],\n",
       " ['1011.5', 1210, 2140],\n",
       " ['1011.3', 1210, 2110],\n",
       " ['1011.2', 1200, 2030],\n",
       " ['1011.3', 1220, 2000],\n",
       " ['1012.1', 1230, 1980],\n",
       " ['1012.1', 1230, 1960],\n",
       " ['1010.5', 1180, 1930],\n",
       " ['1011.5', 1130, 1930],\n",
       " ['1011.3', 1130, 1920],\n",
       " ['1011.6', 1120, 1900],\n",
       " ['1011.0', 1130, 1850],\n",
       " ['1011.8', 1080, 1810],\n",
       " ['1013.0', 1060, 1760],\n",
       " ['1012.9', 1020, 1710]]"
      ]
     },
     "execution_count": 130,
     "metadata": {},
     "output_type": "execute_result"
    }
   ],
   "source": []
  },
  {
   "cell_type": "code",
   "execution_count": null,
   "metadata": {
    "collapsed": true
   },
   "outputs": [],
   "source": []
  }
 ],
 "metadata": {
  "kernelspec": {
   "display_name": "Python 3",
   "language": "python",
   "name": "python3"
  },
  "language_info": {
   "codemirror_mode": {
    "name": "ipython",
    "version": 3
   },
   "file_extension": ".py",
   "mimetype": "text/x-python",
   "name": "python",
   "nbconvert_exporter": "python",
   "pygments_lexer": "ipython3",
   "version": "3.5.2"
  }
 },
 "nbformat": 4,
 "nbformat_minor": 2
}
